{
 "cells": [
  {
   "cell_type": "code",
   "execution_count": 1,
   "id": "b3cf692d",
   "metadata": {},
   "outputs": [],
   "source": [
    "import pandas as pd\n",
    "from sklearn.linear_model import LogisticRegression\n",
    "from sklearn.svm import SVC\n",
    "from sklearn.ensemble import RandomForestClassifier\n",
    "from sklearn.datasets import load_iris"
   ]
  },
  {
   "cell_type": "code",
   "execution_count": 2,
   "id": "47351ddd",
   "metadata": {},
   "outputs": [
    {
     "data": {
      "text/plain": [
       "['DESCR',\n",
       " 'data',\n",
       " 'data_module',\n",
       " 'feature_names',\n",
       " 'filename',\n",
       " 'frame',\n",
       " 'target',\n",
       " 'target_names']"
      ]
     },
     "execution_count": 2,
     "metadata": {},
     "output_type": "execute_result"
    }
   ],
   "source": [
    "iris = load_iris()\n",
    "dir(iris)"
   ]
  },
  {
   "cell_type": "code",
   "execution_count": 3,
   "id": "2adc64a7",
   "metadata": {},
   "outputs": [
    {
     "data": {
      "text/plain": [
       "KFold(n_splits=10, random_state=None, shuffle=False)"
      ]
     },
     "execution_count": 3,
     "metadata": {},
     "output_type": "execute_result"
    }
   ],
   "source": [
    "from sklearn.model_selection import KFold\n",
    "km = KFold(n_splits=10)\n",
    "km"
   ]
  },
  {
   "cell_type": "code",
   "execution_count": 4,
   "id": "906f45c3",
   "metadata": {},
   "outputs": [],
   "source": [
    "from sklearn.model_selection import cross_val_score\n"
   ]
  },
  {
   "cell_type": "markdown",
   "id": "7f10f43a",
   "metadata": {},
   "source": [
    "Prediction accuracy using LogisticRegression"
   ]
  },
  {
   "cell_type": "code",
   "execution_count": 5,
   "id": "c2be492d",
   "metadata": {},
   "outputs": [
    {
     "name": "stderr",
     "output_type": "stream",
     "text": [
      "C:\\Users\\mansi\\anaconda3\\lib\\site-packages\\sklearn\\linear_model\\_logistic.py:814: ConvergenceWarning: lbfgs failed to converge (status=1):\n",
      "STOP: TOTAL NO. of ITERATIONS REACHED LIMIT.\n",
      "\n",
      "Increase the number of iterations (max_iter) or scale the data as shown in:\n",
      "    https://scikit-learn.org/stable/modules/preprocessing.html\n",
      "Please also refer to the documentation for alternative solver options:\n",
      "    https://scikit-learn.org/stable/modules/linear_model.html#logistic-regression\n",
      "  n_iter_i = _check_optimize_result(\n"
     ]
    }
   ],
   "source": [
    "t = cross_val_score(LogisticRegression(),iris.data,iris.target)"
   ]
  },
  {
   "cell_type": "markdown",
   "id": "37d2a6a2",
   "metadata": {},
   "source": [
    "Prediction accuracy using SVM"
   ]
  },
  {
   "cell_type": "code",
   "execution_count": 6,
   "id": "7479a6dd",
   "metadata": {},
   "outputs": [],
   "source": [
    "t1 = cross_val_score(SVC(),iris.data,iris.target)"
   ]
  },
  {
   "cell_type": "markdown",
   "id": "47e9bfe0",
   "metadata": {},
   "source": [
    "Prediction accuracy using Radom Forest Classifier"
   ]
  },
  {
   "cell_type": "code",
   "execution_count": 7,
   "id": "0ec782d4",
   "metadata": {},
   "outputs": [],
   "source": [
    "t2 = cross_val_score(RandomForestClassifier(),iris.data,iris.target)"
   ]
  },
  {
   "cell_type": "code",
   "execution_count": 8,
   "id": "6a45ea51",
   "metadata": {},
   "outputs": [],
   "source": [
    "t3 = cross_val_score(RandomForestClassifier(n_estimators=50),iris.data,iris.target)"
   ]
  },
  {
   "cell_type": "code",
   "execution_count": 12,
   "id": "eb5b2aa7",
   "metadata": {},
   "outputs": [
    {
     "name": "stdout",
     "output_type": "stream",
     "text": [
      "0.9733333333333334 0.9666666666666666 0.96 0.96\n"
     ]
    }
   ],
   "source": [
    "t = t.mean()\n",
    "t1 = t1.mean()\n",
    "t2 = t2.mean()\n",
    "t3 = t3.mean()"
   ]
  },
  {
   "cell_type": "markdown",
   "id": "1a1da70b",
   "metadata": {},
   "source": [
    " Here, Logistic Regression performs best"
   ]
  },
  {
   "cell_type": "code",
   "execution_count": null,
   "id": "b618f6e6",
   "metadata": {},
   "outputs": [],
   "source": []
  }
 ],
 "metadata": {
  "kernelspec": {
   "display_name": "Python 3 (ipykernel)",
   "language": "python",
   "name": "python3"
  },
  "language_info": {
   "codemirror_mode": {
    "name": "ipython",
    "version": 3
   },
   "file_extension": ".py",
   "mimetype": "text/x-python",
   "name": "python",
   "nbconvert_exporter": "python",
   "pygments_lexer": "ipython3",
   "version": "3.9.12"
  }
 },
 "nbformat": 4,
 "nbformat_minor": 5
}
